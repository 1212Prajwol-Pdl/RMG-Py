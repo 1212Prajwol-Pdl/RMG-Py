{
 "cells": [
  {
   "cell_type": "code",
   "execution_count": null,
   "id": "505f2fc9",
   "metadata": {},
   "outputs": [],
   "source": [
    "from rmgpy.data.rmg import RMGDatabase\n",
    "from rmgpy.thermo.thermoengine import submit\n",
    "from rmgpy.thermo import ThermoData\n",
    "from copy import deepcopy\n",
    "from rmgpy import settings\n",
    "\n",
    "from IPython.display import display\n",
    "import os"
   ]
  },
  {
   "cell_type": "code",
   "execution_count": null,
   "id": "fcf7c9e8",
   "metadata": {},
   "outputs": [],
   "source": [
    "path = settings['database.directory']"
   ]
  },
  {
   "cell_type": "code",
   "execution_count": null,
   "id": "ed58ea38",
   "metadata": {},
   "outputs": [],
   "source": [
    "# Enter your kinetics library or libraries\n",
    "reaction_libraries = ['Surface/CPOX_Pt/Deutschmann2006']\n",
    "# Enter your kinetics family or families\n",
    "families = \"None\""
   ]
  },
  {
   "cell_type": "code",
   "execution_count": null,
   "id": "dcdb5d60",
   "metadata": {},
   "outputs": [],
   "source": [
    "# optional - choose metal binding energies for surface library\n",
    "metal = 'Pt111'\n",
    "# optional - choose to display the reactions that are fixed\n",
    "display_reactions = False\n",
    "# optioal - choose which reactions to correct barrier\n",
    "prompt = True\n",
    "show_thermo = True"
   ]
  },
  {
   "cell_type": "code",
   "execution_count": null,
   "id": "644f89b3",
   "metadata": {},
   "outputs": [],
   "source": [
    "# Load the database\n",
    "\n",
    "database = RMGDatabase()\n",
    "database.load(\n",
    "    path,\n",
    "    thermo_libraries=['2-BTP','primaryThermoLibrary','Klippenstein_Glarborg2016', 'BurkeH2O2', 'thermo_DFT_CCSDTF12_BAC', 'DFT_QCI_thermo',\n",
    "                         'primaryThermoLibrary', 'primaryNS', 'NitrogenCurran', 'NOx2018', 'FFCM1(-)',\n",
    "                         'SulfurLibrary', 'SulfurGlarborgH2S', 'SABIC_aromatics',\n",
    "                     'SurfaceThermoPt111'], # can add more\n",
    "    transport_libraries=[],\n",
    "    reaction_libraries=reaction_libraries,\n",
    "    seed_mechanisms=[],\n",
    "    kinetics_families= families,\n",
    "    kinetics_depositories=[],\n",
    "    statmech_libraries=[],\n",
    "    depository=False,\n",
    "    solvation=False,\n",
    "    surface=True,\n",
    "    testing=False,\n",
    ")\n",
    "if metal:\n",
    "    database.thermo.set_binding_energies(metal)"
   ]
  },
  {
   "cell_type": "code",
   "execution_count": null,
   "id": "8b0c4832",
   "metadata": {},
   "outputs": [],
   "source": [
    "def display_prompt():\n",
    "    \n",
    "    success = False\n",
    "    while not success:\n",
    "        choice = input('Would you like to correct this barrier? (y/n) ')\n",
    "        if choice in ['y', 'n', '']:\n",
    "            success = True\n",
    "        else:\n",
    "            print('Invalid choice.')\n",
    "\n",
    "    if choice in ['y','']:\n",
    "        return True\n",
    "    elif choice == 'n':\n",
    "        return False"
   ]
  },
  {
   "cell_type": "code",
   "execution_count": null,
   "id": "080f16f6",
   "metadata": {},
   "outputs": [],
   "source": [
    "def display_thermo(reaction):\n",
    "    print(\"-\"*50,\"THERMO\",\"-\"*50)\n",
    "    for spcs in reaction.reactants + reaction.products:\n",
    "        print(\"\\t\" + spcs.label)\n",
    "        print(\"\\t\\t \" + spcs.thermo.comment)\n",
    "        print(f\"\\t\\t E0: {spcs.thermo.E0.value_si/4184:.2f} kcal/mol\")\n",
    "        print(f\"\\t\\t H298: {spcs.thermo.get_enthalpy(298)/4184:.2f} kcal/mol\")\n",
    "        print(f\"\\t\\t S298: {spcs.thermo.get_entropy(298)/4.184:.2f} cal/mol/K\")\n",
    "    print(\"-\"*108)"
   ]
  },
  {
   "cell_type": "code",
   "execution_count": null,
   "id": "883ab62d",
   "metadata": {},
   "outputs": [],
   "source": [
    "# fix barrier for kinetics families training reactions\n",
    "\n",
    "for family_name, family in database.kinetics.families.items():\n",
    "    library = family.get_training_depository()\n",
    "    for label,entry in library.entries.items():\n",
    "        if entry.item.reversible:\n",
    "            reaction = entry.item\n",
    "            reaction.kinetics =  deepcopy(entry.data)\n",
    "            for spcs in reaction.reactants + reaction.products:\n",
    "                if not spcs.thermo:\n",
    "                    labels = spcs.molecule[0].get_all_labeled_atoms()\n",
    "                    spcs.molecule[0].clear_labeled_atoms()\n",
    "                    spcs.generate_resonance_structures()\n",
    "                    submit(spcs)\n",
    "                    for label,atom in labels.items():\n",
    "                        if isinstance(atom,list):\n",
    "                            for a in atom:\n",
    "                                a.label=label\n",
    "                        else:\n",
    "                            atom.label = label\n",
    "            reaction.fix_barrier_height()\n",
    "            if \"Ea raised\" in reaction.kinetics.comment:\n",
    "                print(\"=\"*49,\"REACTION\",\"=\"*49)\n",
    "                print(f'{label} {reaction}')\n",
    "                if display_reactions:\n",
    "                    display(reaction)\n",
    "                print(reaction.kinetics)\n",
    "                response = True\n",
    "                if show_thermo:\n",
    "                    display_thermo(reaction)\n",
    "                if prompt:\n",
    "                    response = display_prompt()\n",
    "                if response:\n",
    "                    print(\"*** Barrier corrected\")\n",
    "                    n_reactions_fixed += 1\n",
    "                    entry.data = reaction.kinetics\n",
    "                else:\n",
    "                    print(\"*** Barrier NOT corrected\")\n",
    "    print('*' * 100)\n",
    "    print(f\"FIXED {n_reactions_fixed} barriers in {family_name}\")\n",
    "    print('*'* 100)"
   ]
  },
  {
   "cell_type": "code",
   "execution_count": null,
   "id": "762ea611",
   "metadata": {},
   "outputs": [],
   "source": [
    "# save training reactions\n",
    "for family_name, family in database.kinetics.families.items():\n",
    "    library = family.get_training_depository()\n",
    "    lib_path = os.path.join(path,'kinetics','families',library.name,'reactions.py')\n",
    "    library.save(lib_path)"
   ]
  },
  {
   "cell_type": "code",
   "execution_count": null,
   "id": "c41bb8be",
   "metadata": {},
   "outputs": [],
   "source": [
    "# fix barrier for library reactions\n",
    "\n",
    "for library_name, library in database.kinetics.libraries.items():\n",
    "    n_reactions_fixed = 0\n",
    "    for label,entry in library.entries.items():\n",
    "        if entry.item.reversible:\n",
    "            reaction = entry.item\n",
    "            reaction.kinetics = deepcopy(entry.data)\n",
    "            for spcs in reaction.reactants + reaction.products:\n",
    "                if not spcs.thermo:\n",
    "                    submit(spcs)\n",
    "            reaction.fix_barrier_height()\n",
    "            if \"Ea raised\" in reaction.kinetics.comment:\n",
    "                print(\"=\"*49,\"REACTION\",\"=\"*49)\n",
    "                print(f'{label} {reaction}')\n",
    "                if display_reactions:\n",
    "                    display(reaction)\n",
    "                print(reaction.kinetics)\n",
    "                response = True\n",
    "                if show_thermo:\n",
    "                    display_thermo(reaction)\n",
    "                if prompt:\n",
    "                    response = display_prompt()\n",
    "                if response:\n",
    "                    print(\"*** Barrier corrected\")\n",
    "                    entry.data = reaction.kinetics\n",
    "                    n_reactions_fixed += 1\n",
    "                else:\n",
    "                    print(\"*** Barrier NOT corrected\")\n",
    "    print('*' * 100)\n",
    "    print(f\"FIXED {n_reactions_fixed} barriers in {library_name}\")\n",
    "    print('*'* 100)"
   ]
  },
  {
   "cell_type": "code",
   "execution_count": null,
   "id": "7277b7a8",
   "metadata": {},
   "outputs": [],
   "source": [
    "# save libraries\n",
    "for library_name, library in database.kinetics.libraries.items():\n",
    "    lib_path = os.path.join(path,'kinetics','libraries',library_name,'reactions.py')\n",
    "    library.save(lib_path)"
   ]
  }
 ],
 "metadata": {
  "kernelspec": {
   "display_name": "Python 3",
   "language": "python",
   "name": "python3"
  },
  "language_info": {
   "codemirror_mode": {
    "name": "ipython",
    "version": 3
   },
   "file_extension": ".py",
   "mimetype": "text/x-python",
   "name": "python",
   "nbconvert_exporter": "python",
   "pygments_lexer": "ipython3",
   "version": "3.7.10"
  }
 },
 "nbformat": 4,
 "nbformat_minor": 5
}
