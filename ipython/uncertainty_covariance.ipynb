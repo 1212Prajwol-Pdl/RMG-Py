{
 "cells": [
  {
   "cell_type": "code",
   "execution_count": 1,
   "metadata": {},
   "outputs": [],
   "source": [
    "import os\n",
    "import numpy as np\n",
    "\n",
    "from rmgpy.tools.uncertainty import Uncertainty, process_local_results\n",
    "from rmgpy.tools.canteramodel import get_rmg_species_from_user_species\n",
    "from rmgpy.species import Species"
   ]
  },
  {
   "cell_type": "markdown",
   "metadata": {},
   "source": [
    "## Step 1: Define mechanism files"
   ]
  },
  {
   "cell_type": "code",
   "execution_count": 2,
   "metadata": {},
   "outputs": [],
   "source": [
    "# Must use annotated chemkin file\n",
    "chemkin_file = './data/parse_source/chem_annotated.inp'\n",
    "dict_file = './data/parse_source/species_dictionary.txt'\n",
    "\n",
    "# Initialize the Uncertainty class instance and load the model\n",
    "uncertainty = Uncertainty(output_directory='.temp/uncertainty')\n",
    "uncertainty.load_model(chemkin_file, dict_file)\n"
   ]
  },
  {
   "cell_type": "markdown",
   "metadata": {},
   "source": [
    "## Kinetics Uncertainty for Rate Rules\n",
    "\n",
    "\n",
    "The rate $\\ln k_\\mathrm{site}$ can be written as a sum of other random variables, as shown in the block diagram above.\n",
    "\n",
    "$$\\ln k_\\mathrm{site} = \\left[\\sum_{rule_i}\\omega_i \\ln(k_\\mathrm{rule,i})\\right] + \\ln k_\\mathrm{family}+\\log {10}(N+1)\\ln k_\\mathrm{non-exact}$$\n",
    "\n",
    "\n",
    "If we consider each of $\\ln(k_\\mathrm{rule,i})$, $\\ln(k_\\mathrm{family})$, and $\\ln(k_\\mathrm{non-exact})$ to be independent random variables, then we can derive the total variance $\\sigma^2(\\ln k_\\mathrm{site})$ using the following [property](https://en.wikipedia.org/wiki/Variance#Basic_properties):\n",
    "\n",
    "$$\\sigma^2(aX+bY)=a^2\\sigma^2(X)+b^2\\sigma^2(Y)+2abcov(X,Y)$$\n",
    "\n",
    "$\\ln(k_\\mathrm{rule,i})$, $\\ln(k_\\mathrm{family})$, and $\\ln(k_\\mathrm{non-exact})$ are all mutually independent, so the $2abcov(X,Y)$ term drops out in every case.\n",
    "\n",
    "$$\\sigma^2(\\ln k_\\mathrm{site}) = \\left[\\sum_{rule_i}\\omega_i^2 \\sigma^2(\\ln(k_\\mathrm{rule,i}))\\right] + \\sigma^2(\\ln k_\\mathrm{family})+\\left[\\log {10}(N+1)\\right]^2\\sigma^2(\\ln k_\\mathrm{non-exact})$$\n",
    "\n",
    "\n",
    "\n",
    "what is currently implemented:\n",
    "$$\\sigma(\\ln k_\\mathrm{site}) = \\left[\\sum_{rule_i}\\omega_i \\sigma(\\ln(k_\\mathrm{rule,i}))\\right] + \\sigma(\\ln k_\\mathrm{family})+\\left[\\log {10}(N+1)\\right]\\sigma(\\ln k_\\mathrm{non-exact})$$\n",
    "\n",
    "\n",
    "### Covariance Matrix\n",
    "We want to compute elements of the covariance matrix $\\Sigma_{ab}=cov(\\ln(k_{rate\\ rules,a}), \\ln(k_{rate\\ rules,b}))$\n",
    "\n",
    "$$\\Sigma_{ab}=cov(\\ln(k_{site,a}), \\ln(k_{site,b}))$$\n",
    "\n",
    "$$\\Sigma_{ab}=cov\\left(\\left[\\sum_{rule_i}\\omega_{a,i} \\ln(k_\\mathrm{rule,i})\\right] + \\ln k_\\mathrm{family,a}+\\log {10}(N_a+1)\\ln k_\\mathrm{non-exact,a}, \\left[\\sum_{rule_j}\\omega_{b,j} \\ln(k_\\mathrm{rule,j})\\right] + \\ln k_\\mathrm{family,b}+\\log {10}(N_b+1)\\ln k_\\mathrm{non-exact,b}\\right)$$\n",
    "\n",
    "The [covariance of linear combinations](https://en.wikipedia.org/wiki/Covariance#Covariance_of_linear_combinations) is the following:\n",
    "$$cov(aX+bY, cV+dW)=ac\\cdot cov(X,V)+ad\\cdot cov(X,W)+bc\\cdot cov(Y,V)+bd\\cdot cov(Y,W)$$\n",
    "\n",
    "Or, more generally:\n",
    "$$cov(\\sum_ia_iX_i, \\sum_jb_jY_j)=\\sum_{i}\\sum_{j}a_ib_j cov(X_i, Y_j)$$\n",
    "\n",
    "\n",
    "Before trying to write this all out, we know that the $\\ln(k_\\mathrm{rule,i})$, $\\ln(k_\\mathrm{family})$, and  $\\ln(k_\\mathrm{non-exact})$ are independent, so we have the following:\n",
    "\n",
    "\n",
    "$$cov(\\ln(k_\\mathrm{rule,i}), \\ln(k_\\mathrm{family}))=0$$\n",
    "$$cov(\\ln(k_\\mathrm{rule,i}), \\ln(k_\\mathrm{non-exact}))=0$$\n",
    "$$cov(\\ln(k_\\mathrm{family}), \\ln(k_\\mathrm{non-exact}))=0$$\n",
    "\n",
    "\n",
    "$$\\Sigma_{ab}=\\left[\\sum_{rule_i}\\sum_{rule_j}\\omega_{a,i}\\omega_{b,j} cov(\\ln(k_\\mathrm{rule,i}),\\ln(k_\\mathrm{rule,j}))\\right]+cov(\\ln k_\\mathrm{family,a},\\ln k_\\mathrm{family,b})+\\log {10}(N_a+1)\\log {10}(N_b+1)cov(\\ln k_\\mathrm{non-exact,a},\\ln k_\\mathrm{non-exact,b})$$\n",
    "\n",
    "\n",
    "### Check the diagonal to see if this matches the variance\n",
    "$$\\Sigma_{aa}=\\left[\\sum_{rule_i}\\sum_{rule_j}\\omega_{a,i}\\omega_{a,j} cov(\\ln(k_\\mathrm{rule,i}),\\ln(k_\\mathrm{rule,j}))\\right]+cov(\\ln k_\\mathrm{family,a},\\ln k_\\mathrm{family,a})+\\log {10}(N_a+1)\\log {10}(N_a+1)cov(\\ln k_\\mathrm{non-exact,a},\\ln k_\\mathrm{non-exact,a})$$\n",
    "\n",
    "\n",
    "$$\\Sigma_{aa}=\\left[\\sum_{rule_i}\\sum_{rule_j}\\omega_{a,i}\\omega_{a,j} cov(\\ln(k_\\mathrm{rule,i}),\\ln(k_\\mathrm{rule,j}))\\right]+\\sigma^2(\\ln k_\\mathrm{family,a})+\\left[\\log {10}(N_a+1)\\right]^2\\sigma^2(\\ln k_\\mathrm{non-exact,a})$$\n",
    "\n",
    "\n",
    "Different rate rules are independent from each other, so $cov(\\ln(k_\\mathrm{rule,i}),\\ln(k_\\mathrm{rule,j}))=0$ for $i \\neq j$\n",
    "\n",
    "\n",
    "$$\\Sigma_{aa}=\\left[\\sum_{rule_i}\\omega_{a,i}^2 \\sigma^2(\\ln(k_\\mathrm{rule,i}))\\right]+\\sigma^2(\\ln k_\\mathrm{family,a})+\\left[\\log {10}(N_a+1)\\right]^2\\sigma^2(\\ln k_\\mathrm{non-exact,a})$$"
   ]
  },
  {
   "cell_type": "code",
   "execution_count": 3,
   "metadata": {},
   "outputs": [],
   "source": [
    "# NOTE: You must load the database with the same settings which were used to generate the model.\n",
    "#       This includes any thermo or kinetics libraries which were used. This takes a while.\n",
    "uncertainty.load_database(\n",
    "    thermo_libraries=['primaryThermoLibrary'],\n",
    "    kinetics_families='default',\n",
    "    reaction_libraries=[],\n",
    ")\n"
   ]
  },
  {
   "cell_type": "code",
   "execution_count": 4,
   "metadata": {},
   "outputs": [],
   "source": [
    "# Calculate the covariance matrix, then split it up into separate matrices for kinetic and thermo parameters\n",
    "uncertainty.extract_sources_from_model()\n",
    "uncertainty.assign_parameter_uncertainties(correlated=True)\n",
    "Sigma, labels = uncertainty.get_uncertainty_covariance_matrix()\n",
    "N = len(uncertainty.species_list)\n",
    "Sigma_G = Sigma[0:N,0:N]\n",
    "Sigma_k = Sigma[N:,N:]"
   ]
  },
  {
   "cell_type": "markdown",
   "metadata": {},
   "source": [
    "## Example: Compute variance of reaction 21"
   ]
  },
  {
   "cell_type": "code",
   "execution_count": 5,
   "metadata": {},
   "outputs": [
    {
     "name": "stdout",
     "output_type": "stream",
     "text": [
      "Reaction 21:\t H(6) + [CH]=C(14) <=> H2(13) + C#C(28)\n",
      "\n",
      "Source Dictionary\n",
      "{'Rate Rules': ['Disproportionation', {'template': [<Entry index=22 label=\"H_rad\">, <Entry index=208 label=\"Cds/H2_d_Crad\">], 'degeneracy': 2.0, 'exact': False, 'rules': [], 'training': [(<Entry index=673 label=\"H_rad;Cds/H2_d_N3rad\">, <Entry index=116 label=\"H + CH2N <=> H2 + CHN\">, 0.5), (<Entry index=688 label=\"H_rad;Cds/H2_d_N5dcrad/O\">, <Entry index=131 label=\"H + CH2NO <=> H2 + CHNO\">, 0.5)]}]}\n",
      "\n",
      "Disproportionation\n",
      "(<Entry index=673 label=\"H_rad;Cds/H2_d_N3rad\">, <Entry index=116 label=\"H + CH2N <=> H2 + CHN\">, 0.5)\n",
      "(<Entry index=688 label=\"H_rad;Cds/H2_d_N5dcrad/O\">, <Entry index=131 label=\"H + CH2NO <=> H2 + CHNO\">, 0.5)\n",
      "\n",
      "Covariance Uncertainty [21,21]: 2.0467564209684275\n",
      "Hand calculated variance:\t2.0467564209684275\n",
      "\n",
      "Existing uncertainty code:\t2.0467564209684275\n",
      "\n",
      "{'Disproportionation H_rad;Cds/H2_d_N3rad': 0.125, 'Disproportionation H_rad;Cds/H2_d_N5dcrad/O': 0.125, 'Estimation H(6)+C2H3(14)=H2(13)+C#C(28)': 1.7967564209684275}\n"
     ]
    }
   ],
   "source": [
    "# Walk through variance example reaction 21,21\n",
    "\n",
    "# Display the source information for estimating reaction 21's rate\n",
    "a=21\n",
    "reaction_a = uncertainty.reaction_list[a]\n",
    "print(f'Reaction {a}:\\t', reaction_a)\n",
    "print()\n",
    "print('Source Dictionary')\n",
    "print(uncertainty.reaction_sources_dict[reaction_a])\n",
    "print()\n",
    "print(uncertainty.reaction_sources_dict[reaction_a]['Rate Rules'][0])\n",
    "training_rules=uncertainty.reaction_sources_dict[reaction_a]['Rate Rules'][1]['training']\n",
    "for rule in training_rules:\n",
    "    print(rule)\n",
    "\n",
    "print()\n",
    "\n",
    "print(f'Covariance Uncertainty [{a},{a}]:', Sigma_k[a,a])\n",
    "\n",
    "# Hand calculation\n",
    "variance_by_hand = 2.0 * (np.float_power(0.5, 2.0) * 0.5) + 1.0 + np.float_power(np.log10(3), 2.0) * 3.5\n",
    "print(f'Hand calculated variance:\\t{variance_by_hand}')\n",
    "print()\n",
    "\n",
    "# Check against the existing (modified) uncertainty code using the correlated option\n",
    "total_uncertainty = 0\n",
    "for key in uncertainty.kinetic_input_uncertainties[a]:\n",
    "    total_uncertainty += uncertainty.kinetic_input_uncertainties[a][key]\n",
    "print(f'Existing uncertainty code:\\t{total_uncertainty}')\n",
    "print()\n",
    "print(uncertainty.kinetic_input_uncertainties[a])"
   ]
  },
  {
   "cell_type": "markdown",
   "metadata": {},
   "source": [
    "## Example variance of species 11 thermo"
   ]
  },
  {
   "cell_type": "code",
   "execution_count": 6,
   "metadata": {},
   "outputs": [
    {
     "name": "stdout",
     "output_type": "stream",
     "text": [
      "Species:\t[CH]=C(14)\n",
      "\n",
      "Uncertainty sources dictionary:\n",
      "{'GAV': {'group': [(<Entry index=296 label=\"Cds-CdsHH\">, 2)], 'radical': [(<Entry index=435 label=\"Cds_P\">, 1)]}}\n",
      "\n",
      "Existing uncertainty code:\t2.0\n",
      "{'Group(group) Cds-CdsHH': 0.4, 'Group(radical) Cds_P': 0.1, 'Estimation C2H3(14)': 1.5}\n",
      "\n",
      "Hand calculated variance:\t2.0\n",
      "Covariance Uncertainty [11,11]: 2.0\n"
     ]
    }
   ],
   "source": [
    "# Thermo example\n",
    "i=11\n",
    "print(f'Species:\\t{uncertainty.species_list[i]}')\n",
    "print()\n",
    "print('Uncertainty sources dictionary:')\n",
    "print(uncertainty.species_sources_dict[uncertainty.species_list[i]])\n",
    "\n",
    "\n",
    "print()\n",
    "total_uncertainty = 0\n",
    "for key in uncertainty.thermo_input_uncertainties[i].keys():\n",
    "    total_uncertainty += uncertainty.thermo_input_uncertainties[i][key]\n",
    "print(f'Existing uncertainty code:\\t{total_uncertainty}')\n",
    "print(uncertainty.thermo_input_uncertainties[i])\n",
    "print()\n",
    "\n",
    "# Hand calculation\n",
    "variance_by_hand = np.float_power(2.0, 2.0)*0.1 + np.float_power(1.0, 2.0)*0.1 + 1.5\n",
    "print(f'Hand calculated variance:\\t{variance_by_hand}')\n",
    "\n",
    "# Using the get_uncertainty_covariance_matrix function to estimate uncertainty\n",
    "print(f'Covariance Uncertainty [{i},{i}]:', Sigma_G[i,i])\n"
   ]
  },
  {
   "cell_type": "markdown",
   "metadata": {},
   "source": [
    "## Example: covariance between reaction 19 and 21"
   ]
  },
  {
   "cell_type": "code",
   "execution_count": 7,
   "metadata": {},
   "outputs": [
    {
     "name": "stdout",
     "output_type": "stream",
     "text": [
      "Reaction 19:\t [CH3](4) + [CH]=C(14) <=> CH4(3) + C#C(28)\n",
      "{'Rate Rules': ['Disproportionation', {'template': [<Entry index=59 label=\"C_methyl\">, <Entry index=208 label=\"Cds/H2_d_Crad\">], 'degeneracy': 2.0, 'exact': False, 'rules': [], 'training': [(<Entry index=673 label=\"H_rad;Cds/H2_d_N3rad\">, <Entry index=116 label=\"H + CH2N <=> H2 + CHN\">, 0.1), (<Entry index=688 label=\"H_rad;Cds/H2_d_N5dcrad/O\">, <Entry index=131 label=\"H + CH2NO <=> H2 + CHNO\">, 0.16250000000000003), (<Entry index=672 label=\"O_pri_rad;Cds/H2_d_N3rad\">, <Entry index=115 label=\"HO + CH2N <=> H2O + CHN\">, 0.05), (<Entry index=689 label=\"O_pri_rad;Cds/H2_d_N5dcrad/O\">, <Entry index=132 label=\"HO + CH2NO <=> H2O + CHNO\">, 0.1375), (<Entry index=669 label=\"O_rad/NonDeO;Cds/H2_d_N3rad\">, <Entry index=112 label=\"HO2-2 + CH2N <=> H2O2 + CHN\">, 0.07500000000000001), (<Entry index=674 label=\"NH2_rad;Cds/H2_d_N3rad\">, <Entry index=117 label=\"H2N + CH2N <=> H3N + CHN\">, 0.1), (<Entry index=691 label=\"NH2_rad;Cds/H2_d_N5dcrad/O\">, <Entry index=134 label=\"H2N + CH2NO <=> H3N + CHNO\">, 0.1625), (<Entry index=671 label=\"Y_rad;Cds/H2_d_N3rad\">, <Entry index=114 label=\"CH3 + CH2N <=> CH4 + CHN\">, 0.2), (<Entry index=690 label=\"Y_rad;Cds/H2_d_N5dcrad/O\">, <Entry index=133 label=\"CH3 + CH2NO <=> CH4 + CHNO\">, 0.0125)]}]}\n",
      "\n",
      "Reaction 21:\t H(6) + [CH]=C(14) <=> H2(13) + C#C(28)\n",
      "{'Rate Rules': ['Disproportionation', {'template': [<Entry index=22 label=\"H_rad\">, <Entry index=208 label=\"Cds/H2_d_Crad\">], 'degeneracy': 2.0, 'exact': False, 'rules': [], 'training': [(<Entry index=673 label=\"H_rad;Cds/H2_d_N3rad\">, <Entry index=116 label=\"H + CH2N <=> H2 + CHN\">, 0.5), (<Entry index=688 label=\"H_rad;Cds/H2_d_N5dcrad/O\">, <Entry index=131 label=\"H + CH2NO <=> H2 + CHNO\">, 0.5)]}]}\n",
      "Covariance Uncertainty [19,21]: 0.06562500000000002\n",
      "0.065625\n"
     ]
    }
   ],
   "source": [
    "# Walk through example 19,21\n",
    "\n",
    "a=19\n",
    "reaction_a = uncertainty.reaction_list[a]\n",
    "print(f'Reaction {a}:\\t', reaction_a)\n",
    "\n",
    "print(uncertainty.reaction_sources_dict[reaction_a])\n",
    "\n",
    "print()\n",
    "b=21\n",
    "reaction_b = uncertainty.reaction_list[b]\n",
    "print(f'Reaction {b}:\\t', str(reaction_b))\n",
    "print(uncertainty.reaction_sources_dict[reaction_b])\n",
    "\n",
    "\n",
    "print(f'Covariance Uncertainty [{a},{b}]: {Sigma_k[a, b]}')\n",
    "#print('uncertainty.uncertainty', uncertainty.kinetic_input_uncertainties[a])\n",
    "# the possible sources of the reactions\n",
    "\n",
    "\n",
    "print(0.5*(0.5*0.1)+0.5*(0.5*0.1625))"
   ]
  },
  {
   "cell_type": "markdown",
   "metadata": {},
   "source": [
    "## Property checks to verify covariance matrix"
   ]
  },
  {
   "cell_type": "code",
   "execution_count": 8,
   "metadata": {},
   "outputs": [
    {
     "name": "stdout",
     "output_type": "stream",
     "text": [
      "The diagonal of the covariance matrix matches the uncorrelated variances\n",
      "All off-diagonals are less than diagonal\n",
      "Covariance matrix is symmetric\n",
      "Covariance matrix is positive semi-definite\n"
     ]
    }
   ],
   "source": [
    "## Basic sanity checks on the covariance matrix\n",
    "\n",
    "# check that the diagonal matches the uncorrelated variances\n",
    "\n",
    "uncorrelated_matches_diagonal = True\n",
    "uncertainty.assign_parameter_uncertainties(correlated=False)\n",
    "for i in range(0, len(uncertainty.kinetic_input_uncertainties)):\n",
    "    if uncertainty.kinetic_input_uncertainties[i] != Sigma_k[i,i]:\n",
    "        print(uncertainty.kinetic_input_uncertainties[i], Sigma_k[i,i])\n",
    "        uncorrelated_matches_diagonal = False\n",
    "\n",
    "if uncorrelated_matches_diagonal:\n",
    "    print(\"The diagonal of the covariance matrix matches the uncorrelated variances\")\n",
    "\n",
    "    \n",
    "# check that the off diagonals are always less than the corresponding diagonals\n",
    "diagonal_is_max = True\n",
    "for row in range (0, Sigma_k.shape[0]): # horizontal\n",
    "    for col in range(0, row): # col\n",
    "        if Sigma_k[row, col] > Sigma_k[row,row]:\n",
    "            diagonal_is_max = False\n",
    "            print(\"Off-diagonal is too large!\")\n",
    "for col in range (0, Sigma_k.shape[0]): # vertical\n",
    "    for row in range(col+1, Sigma_k.shape[0]): # col\n",
    "        if Sigma_k[row, col] > Sigma_k[col,col]:\n",
    "            diagonal_is_max = False\n",
    "            print(\"Off-diagonal is too large!\")     \n",
    "            \n",
    "            \n",
    "if diagonal_is_max:\n",
    "    print(\"All off-diagonals are less than diagonal\")\n",
    "\n",
    "        \n",
    "    \n",
    "# check that the covariance matrix is symmetric\n",
    "is_symmetric = (Sigma_k == Sigma_k.transpose())\n",
    "if is_symmetric.all():\n",
    "    print(\"Covariance matrix is symmetric\")\n",
    "    \n",
    "\n",
    "#check the covariance matrix is positive semidefinite\n",
    "pos_semidef = True\n",
    "for i in range(0, 100):\n",
    "    x = np.random.rand(Sigma_k.shape[0]) - 0.5\n",
    "    prod = np.dot(np.dot(Sigma_k,x), x)\n",
    "    if prod < 0:\n",
    "        print(\"Covariance matrix is not positive semi-definite\")\n",
    "        pos_semidef = False\n",
    "if pos_semidef:\n",
    "    print(\"Covariance matrix is positive semi-definite\")\n"
   ]
  },
  {
   "cell_type": "markdown",
   "metadata": {},
   "source": [
    "## Save the covariance matrix using RMG objects"
   ]
  },
  {
   "cell_type": "code",
   "execution_count": 19,
   "metadata": {},
   "outputs": [],
   "source": [
    "import pickle\n",
    "from scipy.sparse import coo_matrix\n",
    "\n",
    "\n",
    "# convert the matrix to sparse form because it's big\n",
    "sparse_cov_mat = coo_matrix(Sigma)\n",
    "\n",
    "# save as pickle using rmg objects\n",
    "rmg_data = {\n",
    "    'covariance_matrix': sparse_cov_mat,\n",
    "    'parameter_labels': labels\n",
    "}\n",
    "\n",
    "with open('cov_mat_rmg.pickle', 'wb') as f:\n",
    "    pickle.dump(rmg_data, f)"
   ]
  },
  {
   "cell_type": "markdown",
   "metadata": {},
   "source": [
    "## Save the covariance matrix without using RMG objects"
   ]
  },
  {
   "cell_type": "code",
   "execution_count": 18,
   "metadata": {},
   "outputs": [],
   "source": [
    "# save as two numpy arrays with only strings as labels\n",
    "import pickle\n",
    "from scipy.sparse import coo_matrix\n",
    "\n",
    "\n",
    "flat_species_list = []\n",
    "for sp in uncertainty.species_list:\n",
    "    flat_species_list.append(str(sp))\n",
    "flat_reaction_list = []\n",
    "for rxn in uncertainty.reaction_list:\n",
    "    flat_reaction_list.append(str(rxn))\n",
    "\n",
    "\n",
    "# break Sigma back into parts\n",
    "N = len(uncertainty.species_list)\n",
    "Sigma_G = Sigma[0:N,0:N]\n",
    "Sigma_k = Sigma[N:,N:]\n",
    "\n",
    "# convert the matrix to sparse form because it's big\n",
    "sparse_G = coo_matrix(Sigma_G)\n",
    "sparse_k = coo_matrix(Sigma_k)\n",
    "\n",
    "\n",
    "data = {\n",
    "    'cov_thermo': sparse_G,\n",
    "    'species_labels': flat_species_list,\n",
    "    'cov_kinetic': sparse_k,\n",
    "    'reaction_labels': flat_reaction_list\n",
    "}\n",
    "\n",
    "with open('cov_mat_flat.pickle', 'wb') as f:\n",
    "    pickle.dump(data, f)"
   ]
  },
  {
   "cell_type": "markdown",
   "metadata": {},
   "source": [
    "## Read covariance matrix"
   ]
  },
  {
   "cell_type": "code",
   "execution_count": null,
   "metadata": {},
   "outputs": [],
   "source": [
    "from scipy.sparse import coo_matrix\n",
    "import numpy as np\n",
    "import pickle\n",
    "\n",
    "with open('cov_mat_flat.pickle', 'rb') as f:\n",
    "    data = pickle.load(f)\n",
    "\n",
    "sparse_G = data['cov_thermo']\n",
    "species_list = data['species_labels']\n",
    "sparse_k = data['cov_kinetic']\n",
    "reaction_list = data['reaction_labels']\n",
    "\n",
    "Sigma_G = sparse_G.toarray()\n",
    "Sigma_k = sparse_k.toarray()\n",
    "\n",
    "a=19\n",
    "b=21\n",
    "print(f'Reaction {a}: {reaction_list[a]}')\n",
    "print(f'Reaction {b}: {reaction_list[b]}')\n",
    "print(f'cov(Reaction {a}, Reaction {b}: {Sigma_k[a,b]}')"
   ]
  },
  {
   "cell_type": "markdown",
   "metadata": {},
   "source": [
    "## List species and reaction info"
   ]
  },
  {
   "cell_type": "code",
   "execution_count": null,
   "metadata": {},
   "outputs": [],
   "source": [
    "#List species and sources\n",
    "for species in uncertainty.species_list:\n",
    "    print(species)\n",
    "    print(uncertainty.species_sources_dict[species])"
   ]
  },
  {
   "cell_type": "code",
   "execution_count": null,
   "metadata": {},
   "outputs": [],
   "source": [
    "#print the list of reactions, sources, uncertainties:\n",
    "uncertainty.assign_parameter_uncertainties(correlated=False)\n",
    "for i in range(0,len(uncertainty.reaction_list)):\n",
    "    print(i, uncertainty.reaction_list[i], uncertainty.kinetic_input_uncertainties[i])\n",
    "    print(uncertainty.reaction_sources_dict[uncertainty.reaction_list[i]])\n",
    "    print()\n",
    "    "
   ]
  },
  {
   "cell_type": "code",
   "execution_count": null,
   "metadata": {},
   "outputs": [],
   "source": []
  },
  {
   "cell_type": "code",
   "execution_count": null,
   "metadata": {},
   "outputs": [],
   "source": []
  },
  {
   "cell_type": "code",
   "execution_count": null,
   "metadata": {},
   "outputs": [],
   "source": []
  }
 ],
 "metadata": {
  "kernelspec": {
   "display_name": "Python 3",
   "language": "python",
   "name": "python3"
  },
  "language_info": {
   "codemirror_mode": {
    "name": "ipython",
    "version": 3
   },
   "file_extension": ".py",
   "mimetype": "text/x-python",
   "name": "python",
   "nbconvert_exporter": "python",
   "pygments_lexer": "ipython3",
   "version": "3.7.7"
  }
 },
 "nbformat": 4,
 "nbformat_minor": 1
}
