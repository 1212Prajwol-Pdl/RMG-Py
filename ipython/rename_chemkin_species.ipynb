{
 "cells": [
  {
   "cell_type": "code",
   "execution_count": 1,
   "metadata": {
    "collapsed": true
   },
   "outputs": [],
   "source": [
    "from rmgpy.chemkin import loadChemkinFile, saveChemkinFile, saveSpeciesDictionary\n",
    "from rmgpy.molecule.util import retrieveElementCount"
   ]
  },
  {
   "cell_type": "code",
   "execution_count": 2,
   "metadata": {
    "collapsed": true
   },
   "outputs": [],
   "source": [
    "species_list, reaction_list = loadChemkinFile(\n",
    "    path='/home/mjliu/Documents/test/chem_annotated.inp',\n",
    "    dictionaryPath='/home/mjliu/Documents/test/species_dictionary.txt'\n",
    ")"
   ]
  },
  {
   "cell_type": "code",
   "execution_count": 3,
   "metadata": {
    "collapsed": false
   },
   "outputs": [],
   "source": [
    "formula_dict = {}\n",
    "for species in species_list:\n",
    "    formula = species.molecule[0].getFormula()\n",
    "    if formula in formula_dict:\n",
    "        formula_dict[formula] += 1\n",
    "        new_label = '{0}-{1}'.format(formula, formula_dict[formula])\n",
    "    else:\n",
    "        formula_dict[formula] = 0\n",
    "        new_label = formula\n",
    "    species.label = new_label\n",
    "    species.index = -1"
   ]
  },
  {
   "cell_type": "code",
   "execution_count": 4,
   "metadata": {
    "collapsed": false
   },
   "outputs": [],
   "source": [
    "sorted_list = []\n",
    "\n",
    "selected_indices = [0, 1, 2, 3, 5]\n",
    "for index in reversed(selected_indices):\n",
    "    spec = species_list.pop(index)\n",
    "    sorted_list.insert(0, spec)"
   ]
  },
  {
   "cell_type": "code",
   "execution_count": 5,
   "metadata": {
    "collapsed": true
   },
   "outputs": [],
   "source": [
    "def get_sorting_tuple(species):\n",
    "    element_count = retrieveElementCount(species.molecule[0])\n",
    "    if 'C' in element_count:\n",
    "        c = element_count['C']\n",
    "    else:\n",
    "        c = 0\n",
    "    if 'H' in element_count:\n",
    "        h = element_count['H']\n",
    "    else:\n",
    "        h = 0\n",
    "    if 'O' in element_count:\n",
    "        o = element_count['O']\n",
    "    else:\n",
    "        o = 0\n",
    "    return (c, h, o)"
   ]
  },
  {
   "cell_type": "code",
   "execution_count": 6,
   "metadata": {
    "collapsed": true
   },
   "outputs": [],
   "source": [
    "sorted_list.extend(sorted(species_list, key=lambda x: get_sorting_tuple(x)))"
   ]
  },
  {
   "cell_type": "code",
   "execution_count": 7,
   "metadata": {
    "collapsed": false
   },
   "outputs": [],
   "source": [
    "saveChemkinFile(\n",
    "    path='/home/mjliu/Documents/test/new_chem_annotated.inp',\n",
    "    species=sorted_list,\n",
    "    reactions=reaction_list,\n",
    ")\n",
    "saveSpeciesDictionary(\n",
    "    path='/home/mjliu/Documents/test/new_species_dictionary.txt',\n",
    "    species=sorted_list,\n",
    ")"
   ]
  },
  {
   "cell_type": "code",
   "execution_count": 8,
   "metadata": {
    "collapsed": false
   },
   "outputs": [
    {
     "data": {
      "text/plain": [
       "Arrhenius(A=(2.94e-05,'cm^3/(mol*s)'), n=5.135, Ea=(7.89,'kcal/mol'), T0=(1,'K'), comment=\"\"\"Estimated using average of templates [C/H3/Cs;C_methyl] + [C/H3/Cs\\H3;Cs_rad] for rate rule [C/H3/Cs\\H3;C_methyl]\n",
       "Euclidian distance = 1.0\n",
       "Multiplied by reaction path degeneracy 6.0\n",
       "family: H_Abstraction\"\"\")"
      ]
     },
     "execution_count": 8,
     "metadata": {},
     "output_type": "execute_result"
    }
   ],
   "source": [
    "reaction_list[1].kinetics"
   ]
  },
  {
   "cell_type": "code",
   "execution_count": null,
   "metadata": {
    "collapsed": true
   },
   "outputs": [],
   "source": []
  }
 ],
 "metadata": {
  "anaconda-cloud": {},
  "kernelspec": {
   "display_name": "Python [conda env:rmg_env]",
   "language": "python",
   "name": "conda-env-rmg_env-py"
  },
  "language_info": {
   "codemirror_mode": {
    "name": "ipython",
    "version": 2
   },
   "file_extension": ".py",
   "mimetype": "text/x-python",
   "name": "python",
   "nbconvert_exporter": "python",
   "pygments_lexer": "ipython2",
   "version": "2.7.13"
  }
 },
 "nbformat": 4,
 "nbformat_minor": 1
}
