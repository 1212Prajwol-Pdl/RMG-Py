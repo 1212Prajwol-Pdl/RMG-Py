{
 "cells": [
  {
   "cell_type": "code",
   "execution_count": 1,
   "metadata": {
    "collapsed": false
   },
   "outputs": [
    {
     "ename": "NameError",
     "evalue": "name 'os' is not defined",
     "output_type": "error",
     "traceback": [
      "\u001b[0;31m---------------------------------------------------------------------------\u001b[0m",
      "\u001b[0;31mNameError\u001b[0m                                 Traceback (most recent call last)",
      "\u001b[0;32m<ipython-input-1-4b39208a8757>\u001b[0m in \u001b[0;36m<module>\u001b[0;34m()\u001b[0m\n\u001b[1;32m      1\u001b[0m \u001b[0mSMILES_files\u001b[0m \u001b[0;34m=\u001b[0m \u001b[0;34m[\u001b[0m\u001b[0;34m]\u001b[0m\u001b[0;34m\u001b[0m\u001b[0m\n\u001b[0;32m----> 2\u001b[0;31m \u001b[0;32mfor\u001b[0m \u001b[0mroot\u001b[0m\u001b[0;34m,\u001b[0m \u001b[0mdirs\u001b[0m\u001b[0;34m,\u001b[0m \u001b[0mfiles\u001b[0m \u001b[0;32min\u001b[0m \u001b[0mos\u001b[0m\u001b[0;34m.\u001b[0m\u001b[0mwalk\u001b[0m\u001b[0;34m(\u001b[0m\u001b[0;34m\"../RMG-models\"\u001b[0m\u001b[0;34m,\u001b[0m \u001b[0mtopdown\u001b[0m\u001b[0;34m=\u001b[0m\u001b[0mFalse\u001b[0m\u001b[0;34m)\u001b[0m\u001b[0;34m:\u001b[0m\u001b[0;34m\u001b[0m\u001b[0m\n\u001b[0m\u001b[1;32m      3\u001b[0m         \u001b[0;32mfor\u001b[0m \u001b[0mname\u001b[0m \u001b[0;32min\u001b[0m \u001b[0mfiles\u001b[0m\u001b[0;34m:\u001b[0m\u001b[0;34m\u001b[0m\u001b[0m\n\u001b[1;32m      4\u001b[0m                 \u001b[0;32mif\u001b[0m \u001b[0mstr\u001b[0m\u001b[0;34m(\u001b[0m\u001b[0mos\u001b[0m\u001b[0;34m.\u001b[0m\u001b[0mpath\u001b[0m\u001b[0;34m.\u001b[0m\u001b[0mjoin\u001b[0m\u001b[0;34m(\u001b[0m\u001b[0mroot\u001b[0m\u001b[0;34m,\u001b[0m\u001b[0mname\u001b[0m\u001b[0;34m)\u001b[0m\u001b[0;34m)\u001b[0m\u001b[0;34m.\u001b[0m\u001b[0mendswith\u001b[0m\u001b[0;34m(\u001b[0m\u001b[0;34m'SMILES.txt'\u001b[0m\u001b[0;34m)\u001b[0m\u001b[0;34m:\u001b[0m\u001b[0;34m\u001b[0m\u001b[0m\n\u001b[1;32m      5\u001b[0m                         \u001b[0mSMILES_files\u001b[0m\u001b[0;34m.\u001b[0m\u001b[0mappend\u001b[0m\u001b[0;34m(\u001b[0m\u001b[0mos\u001b[0m\u001b[0;34m.\u001b[0m\u001b[0mpath\u001b[0m\u001b[0;34m.\u001b[0m\u001b[0mjoin\u001b[0m\u001b[0;34m(\u001b[0m\u001b[0mroot\u001b[0m\u001b[0;34m,\u001b[0m\u001b[0mname\u001b[0m\u001b[0;34m)\u001b[0m\u001b[0;34m)\u001b[0m\u001b[0;34m\u001b[0m\u001b[0m\n",
      "\u001b[0;31mNameError\u001b[0m: name 'os' is not defined"
     ]
    }
   ],
   "source": [
    "SMILES_files = []\n",
    "for root, dirs, files in os.walk(\"../RMG-models\", topdown=False):\n",
    "\tfor name in files:\n",
    "\t\tif str(os.path.join(root,name)).endswith('SMILES.txt'):\n",
    "\t\t\tSMILES_files.append(os.path.join(root,name))"
   ]
  },
  {
   "cell_type": "code",
   "execution_count": 2,
   "metadata": {
    "collapsed": true
   },
   "outputs": [],
   "source": [
    "import os"
   ]
  },
  {
   "cell_type": "code",
   "execution_count": 3,
   "metadata": {
    "collapsed": true
   },
   "outputs": [],
   "source": [
    "SMILES_files = []\n",
    "for root, dirs, files in os.walk(\"../RMG-models\", topdown=False):\n",
    "\tfor name in files:\n",
    "\t\tif str(os.path.join(root,name)).endswith('SMILES.txt'):\n",
    "\t\t\tSMILES_files.append(os.path.join(root,name))"
   ]
  },
  {
   "cell_type": "code",
   "execution_count": 4,
   "metadata": {
    "collapsed": true
   },
   "outputs": [],
   "source": [
    "kinetics_files = []\n",
    "for root, dirs, files in os.walk(\"../RMG-models\", topdown=False):\n",
    "\tfor name in files:\n",
    "\t\tif str(os.path.join(root,name)).endswith('kinetics.py'):\n",
    "\t\t\tkinetics_files.append(os.path.join(root,name))"
   ]
  },
  {
   "cell_type": "code",
   "execution_count": 5,
   "metadata": {
    "collapsed": false
   },
   "outputs": [
    {
     "data": {
      "text/plain": [
       "['../RMG-models/AramcoMech_1.3/SMILES.txt',\n",
       " '../RMG-models/AramcoMech_2.0/SMILES.txt',\n",
       " '../RMG-models/Biomass/SMILES.txt',\n",
       " '../RMG-models/Chernov/SMILES.txt',\n",
       " '../RMG-models/CombFlame2013/1315-Chang/SMILES.txt',\n",
       " '../RMG-models/CombFlame2013/1541-Zhang/SMILES.txt',\n",
       " '../RMG-models/CombFlame2013/1609-Veloo/SMILES.txt',\n",
       " '../RMG-models/CombFlame2013/17-Malewicki/SMILES.txt',\n",
       " '../RMG-models/CombFlame2013/1907-Merchant/SMILES.txt',\n",
       " '../RMG-models/CombFlame2013/1939-Cai/SMILES.txt',\n",
       " '../RMG-models/CombFlame2013/1958-Zhao/SMILES.txt',\n",
       " '../RMG-models/CombFlame2013/2291-Somers/SMILES.txt',\n",
       " '../RMG-models/CombFlame2013/2319-Serinyel/SMILES.txt',\n",
       " '../RMG-models/CombFlame2013/2343-Hansen/SMILES.txt',\n",
       " '../RMG-models/CombFlame2013/2680-Vranckx/SMILES.txt',\n",
       " '../RMG-models/CombFlame2013/2693-Karwat/SMILES.txt',\n",
       " '../RMG-models/CombFlame2013/2712-Sarathy/SMILES.txt',\n",
       " '../RMG-models/CombFlame2013/487-Schenk/SMILES.txt',\n",
       " '../RMG-models/CombFlame2013/853-Alzueta/SMILES.txt',\n",
       " '../RMG-models/CombFlame2014/1135-Dames/SMILES.txt',\n",
       " '../RMG-models/CombFlame2014/1146-Rotavera/SMILES.txt',\n",
       " '../RMG-models/CombFlame2014/1516-Xuan/SMILES.txt',\n",
       " '../RMG-models/CombFlame2014/405-Cai/SMILES.txt',\n",
       " '../RMG-models/CombFlame2014/644-Man/SMILES.txt',\n",
       " '../RMG-models/CombFlame2014/65-Darcy/SMILES.txt',\n",
       " '../RMG-models/CombFlame2014/657-Jin/SMILES.txt',\n",
       " '../RMG-models/CombFlame2014/711-Allen/SMILES.txt',\n",
       " '../RMG-models/CombFlame2014/748-Liu/SMILES.txt',\n",
       " '../RMG-models/CombFlame2014/798-Cai/SMILES.txt',\n",
       " '../RMG-models/CombFlame2014/818-Zhang/SMILES.txt',\n",
       " '../RMG-models/CombFlame2014/84-Wang/SMILES.txt',\n",
       " '../RMG-models/CombFlame2014/885-Xiong/SMILES.txt',\n",
       " '../RMG-models/CombFlame2014/898-Wagnon/SMILES.txt',\n",
       " '../RMG-models/CombFlame2015/3755-Konnov/SMILES.txt',\n",
       " '../RMG-models/Gasoline_2/SMILES.txt',\n",
       " '../RMG-models/Gasoline_Surrogate/SMILES.txt',\n",
       " '../RMG-models/GoldsboroughNOx/SMILES.txt',\n",
       " '../RMG-models/GRI-17-species-mech/SMILES.txt',\n",
       " '../RMG-models/GRI-mech-3.0/SMILES.txt',\n",
       " '../RMG-models/H2/SMILES.txt',\n",
       " '../RMG-models/H2-3/SMILES.txt',\n",
       " '../RMG-models/IJCK2013/638-Metcalfe/SMILES.txt',\n",
       " '../RMG-models/JPCA2013/1371-Sirjean/SMILES.txt',\n",
       " '../RMG-models/MatheuCH4/SMILES.txt',\n",
       " '../RMG-models/MB-Dooley/SMILES.txt',\n",
       " '../RMG-models/MB-Farooq/SMILES.txt',\n",
       " '../RMG-models/MB-Fisher/SMILES.txt',\n",
       " '../RMG-models/n-Heptane/SMILES.txt',\n",
       " '../RMG-models/Narayanaswamy/SMILES.txt',\n",
       " '../RMG-models/PCI2013/187-Wang/SMILES.txt',\n",
       " '../RMG-models/PCI2013/225-Somers/SMILES.txt',\n",
       " '../RMG-models/PCI2013/259-Labbe/SMILES.txt',\n",
       " '../RMG-models/PCI2013/269-Matsugi/SMILES.txt',\n",
       " '../RMG-models/PCI2013/289-Dagaut/SMILES.txt',\n",
       " '../RMG-models/PCI2013/297-Herbinet/SMILES.txt',\n",
       " '../RMG-models/PCI2013/325-Husson/SMILES.txt',\n",
       " '../RMG-models/PCI2013/335-Wang/SMILES.txt',\n",
       " '../RMG-models/PCI2013/353-Malewicki/SMILES.txt',\n",
       " '../RMG-models/PCI2013/361-Malewicki/SMILES.txt',\n",
       " '../RMG-models/PCI2013/401-Liu/SMILES.txt',\n",
       " '../RMG-models/PCI2013/411-Darcy/SMILES.txt',\n",
       " '../RMG-models/PCI2013/519-Zador/SMILES.txt',\n",
       " '../RMG-models/PCI2013/527-Sheen/SMILES.txt',\n",
       " '../RMG-models/PCI2013/599-Veloo/SMILES.txt',\n",
       " '../RMG-models/PCI2013/617-Zhang/SMILES.txt',\n",
       " '../RMG-models/PCI2015/0153-Marshall/SMILES.txt',\n",
       " '../RMG-models/PCI2015/0325-Nawdiyal/SMILES.txt',\n",
       " '../RMG-models/PCI2015/0409-Zhang/SMILES.txt',\n",
       " '../RMG-models/PCI2017/005-Kraus/SMILES.txt',\n",
       " '../RMG-models/PCI2017/012-Felsmann/SMILES.txt',\n",
       " '../RMG-models/PCI2017/022-Thion/SMILES.txt',\n",
       " '../RMG-models/PCI2017/024-Bohon/SMILES.txt',\n",
       " '../RMG-models/PCI2017/025-Sudholt/SMILES.txt',\n",
       " '../RMG-models/PCI2017/032-Cheng/SMILES.txt',\n",
       " '../RMG-models/PCI2017/036-Rashidi/SMILES.txt',\n",
       " '../RMG-models/PCI2017/037-Sakai/SMILES.txt',\n",
       " '../RMG-models/PCI2017/038-Labbe-Zhao(30Torr-10Atm)/SMILES.txt',\n",
       " '../RMG-models/PCI2017/047-Rodriguez/SMILES.txt',\n",
       " '../RMG-models/PCI2017/051-Pelucchi/SMILES.txt',\n",
       " '../RMG-models/PCI2017/052-Li/SMILES.txt',\n",
       " '../RMG-models/PCI2017/052-Stagni/SMILES.txt',\n",
       " '../RMG-models/PCI2017/058-Sun/SMILES.txt',\n",
       " '../RMG-models/PCI2017/082-Hemken/SMILES.txt',\n",
       " '../RMG-models/PCI2017/087-Tran/SMILES.txt',\n",
       " '../RMG-models/PCI2017/111-Jin/SMILES.txt',\n",
       " '../RMG-models/PCI2017/145-Sun/SMILES.txt',\n",
       " '../RMG-models/Reduced-DRG-GRI-mech/SMILES.txt',\n",
       " '../RMG-models/Shamel-Propane/SMILES.txt',\n",
       " '../RMG-models/USC_Mech_ii/SMILES.txt']"
      ]
     },
     "execution_count": 5,
     "metadata": {},
     "output_type": "execute_result"
    }
   ],
   "source": [
    "SMILES_files"
   ]
  },
  {
   "cell_type": "code",
   "execution_count": 6,
   "metadata": {
    "collapsed": false
   },
   "outputs": [
    {
     "data": {
      "text/plain": [
       "['../RMG-models/AramcoMech_1.3/AramcoMech_1.3_C4_chem.kinetics.py',\n",
       " '../RMG-models/AramcoMech_2.0/Aramco2.0.kinetics.py',\n",
       " '../RMG-models/Biomass/SpRxn.kinetics.py',\n",
       " '../RMG-models/Chernov/Chernov_2014_chemkin.kinetics.py',\n",
       " '../RMG-models/CombFlame2013/1315-Chang/mechanism.kinetics.py',\n",
       " '../RMG-models/CombFlame2013/1541-Zhang/mechanism.kinetics.py',\n",
       " '../RMG-models/CombFlame2013/1609-Veloo/mechanism.kinetics.py',\n",
       " '../RMG-models/CombFlame2013/17-Malewicki/mechanism.kinetics.py',\n",
       " '../RMG-models/CombFlame2013/1907-Merchant/mechanism.kinetics.py',\n",
       " '../RMG-models/CombFlame2013/1939-Cai/mechanism.kinetics.py',\n",
       " '../RMG-models/CombFlame2013/1958-Zhao/mechanism.kinetics.py',\n",
       " '../RMG-models/CombFlame2013/2291-Somers/mechanism.kinetics.py',\n",
       " '../RMG-models/CombFlame2013/2319-Serinyel/mechanism.kinetics.py',\n",
       " '../RMG-models/CombFlame2013/2343-Hansen/mechanism.kinetics.py',\n",
       " '../RMG-models/CombFlame2013/2680-Vranckx/mechanism.kinetics.py',\n",
       " '../RMG-models/CombFlame2013/2693-Karwat/mechanism.kinetics.py',\n",
       " '../RMG-models/CombFlame2013/2712-Sarathy/mechanism.kinetics.py',\n",
       " '../RMG-models/CombFlame2013/487-Schenk/mechanism.kinetics.py',\n",
       " '../RMG-models/CombFlame2013/853-Alzueta/mechanism.kinetics.py',\n",
       " '../RMG-models/CombFlame2014/1135-Dames/mechanism.kinetics.py',\n",
       " '../RMG-models/CombFlame2014/405-Cai/optimizedmechanism.kinetics.py',\n",
       " '../RMG-models/CombFlame2014/405-Cai/unoptimizedmechanism.kinetics.py',\n",
       " '../RMG-models/CombFlame2014/65-Darcy/mechanism.kinetics.py',\n",
       " '../RMG-models/CombFlame2014/657-Jin/mechanism.kinetics.py',\n",
       " '../RMG-models/CombFlame2014/711-Allen/mechanism.kinetics.py',\n",
       " '../RMG-models/CombFlame2014/748-Liu/mechanism.kinetics.py',\n",
       " '../RMG-models/CombFlame2014/798-Cai/mechanism.kinetics.py',\n",
       " '../RMG-models/CombFlame2014/818-Zhang/mechanism.kinetics.py',\n",
       " '../RMG-models/CombFlame2014/84-Wang/mechanism.kinetics.py',\n",
       " '../RMG-models/CombFlame2014/885-Xiong/mechanism.kinetics.py',\n",
       " '../RMG-models/CombFlame2014/898-Wagnon/mechanism.kinetics.py',\n",
       " '../RMG-models/CombFlame2015/3755-Konnov/mechanism.kinetics.py',\n",
       " '../RMG-models/Gasoline_2/llnl.gasoline.mar2014.chem.kinetics.py',\n",
       " '../RMG-models/Gasoline_Surrogate/Gasolinemechanism.kinetics.py',\n",
       " '../RMG-models/GRI-17-species-mech/mechanism.kinetics.py',\n",
       " '../RMG-models/GRI-mech-3.0/mechanism.kinetics.py',\n",
       " '../RMG-models/H2/chem.kinetics.py',\n",
       " '../RMG-models/H2-3/Burke_Konnov_Mech3.kinetics.py',\n",
       " '../RMG-models/IJCK2013/638-Metcalfe/mechanism.kinetics.py',\n",
       " '../RMG-models/JPCA2013/1371-Sirjean/mechanism.kinetics.py',\n",
       " '../RMG-models/MatheuCH4/Matheu_CH4_pyrolysis_gas_kinetics.kinetics.py',\n",
       " '../RMG-models/MB-Dooley/mb_cnf_08.kinetics.py',\n",
       " '../RMG-models/MB-Farooq/mmc1.kinetics.py',\n",
       " '../RMG-models/MB-Fisher/mbmechrev.kinetics.py',\n",
       " '../RMG-models/n-Heptane/nc7_ver3.1_mech.kinetics.py',\n",
       " '../RMG-models/Narayanaswamy/Narayanaswamy_2010_chemkin.kinetics.py',\n",
       " '../RMG-models/PCI2013/225-Somers/mechanism.kinetics.py',\n",
       " '../RMG-models/PCI2013/259-Labbe/mechanism.kinetics.py',\n",
       " '../RMG-models/PCI2013/269-Matsugi/mechanism.kinetics.py',\n",
       " '../RMG-models/PCI2013/289-Dagaut/mechanism.kinetics.py',\n",
       " '../RMG-models/PCI2013/297-Herbinet/mechanism.kinetics.py',\n",
       " '../RMG-models/PCI2013/325-Husson/mechanism.kinetics.py',\n",
       " '../RMG-models/PCI2013/335-Wang/mechanism.kinetics.py',\n",
       " '../RMG-models/PCI2013/353-Malewicki/mechanism.kinetics.py',\n",
       " '../RMG-models/PCI2013/361-Malewicki/mechanism.kinetics.py',\n",
       " '../RMG-models/PCI2013/401-Liu/mechanism.kinetics.py',\n",
       " '../RMG-models/PCI2013/411-Darcy/mechanism.kinetics.py',\n",
       " '../RMG-models/PCI2013/527-Sheen/mechanism.kinetics.py',\n",
       " '../RMG-models/PCI2013/599-Veloo/mechanism.kinetics.py',\n",
       " '../RMG-models/PCI2013/617-Zhang/mechanism.kinetics.py',\n",
       " '../RMG-models/PCI2015/0153-Marshall/mechanism.kinetics.py',\n",
       " '../RMG-models/PCI2015/0325-Nawdiyal/mechanism.kinetics.py',\n",
       " '../RMG-models/PCI2015/0409-Zhang/mechanism.kinetics.py',\n",
       " '../RMG-models/Reduced-DRG-GRI-mech/mechanism.kinetics.py',\n",
       " '../RMG-models/Shamel-Propane/propane_full_mechanism.kinetics.py',\n",
       " '../RMG-models/USC_Mech_ii/USC_Mech_ver_II.kinetics.py']"
      ]
     },
     "execution_count": 6,
     "metadata": {},
     "output_type": "execute_result"
    }
   ],
   "source": [
    "kinetics_files"
   ]
  },
  {
   "cell_type": "code",
   "execution_count": 7,
   "metadata": {
    "collapsed": false
   },
   "outputs": [
    {
     "data": {
      "text/plain": [
       "False"
      ]
     },
     "execution_count": 7,
     "metadata": {},
     "output_type": "execute_result"
    }
   ],
   "source": [
    "len(SMILES_files) == len(kinetics_files)"
   ]
  },
  {
   "cell_type": "code",
   "execution_count": 9,
   "metadata": {
    "collapsed": false
   },
   "outputs": [
    {
     "ename": "IndentationError",
     "evalue": "unexpected unindent (<ipython-input-9-37c8237e5ea3>, line 6)",
     "output_type": "error",
     "traceback": [
      "\u001b[0;36m  File \u001b[0;32m\"<ipython-input-9-37c8237e5ea3>\"\u001b[0;36m, line \u001b[0;32m6\u001b[0m\n\u001b[0;31m    test = str(e + '/' + d + '/' + c)\u001b[0m\n\u001b[0m                                     ^\u001b[0m\n\u001b[0;31mIndentationError\u001b[0m\u001b[0;31m:\u001b[0m unexpected unindent\n"
     ]
    }
   ],
   "source": [
    "smiles_dict = {}\n",
    "for name in SMILES_files:\n",
    "\ttry:\n",
    "\t\te,d,c,b,a = name.split('/')\n",
    "\t\tsmiles_entry = c + \"_\" + b\n",
    "\t\ttest = str(e + '/' + d + '/' + c)"
   ]
  },
  {
   "cell_type": "code",
   "execution_count": 10,
   "metadata": {
    "collapsed": true
   },
   "outputs": [],
   "source": [
    "smiles_dict = {}"
   ]
  },
  {
   "cell_type": "code",
   "execution_count": 13,
   "metadata": {
    "collapsed": false
   },
   "outputs": [],
   "source": [
    "for name in SMILES_files:\n",
    "    try:\n",
    "        e,d,c,b,a = name.split('/')\n",
    "        smiles_entry = c+ '_' +b\n",
    "        test = e+'/'+d+'/'+c\n",
    "    except:\n",
    "        pass"
   ]
  },
  {
   "cell_type": "code",
   "execution_count": 14,
   "metadata": {
    "collapsed": false
   },
   "outputs": [
    {
     "data": {
      "text/plain": [
       "'../RMG-models/PCI2017'"
      ]
     },
     "execution_count": 14,
     "metadata": {},
     "output_type": "execute_result"
    }
   ],
   "source": [
    "test"
   ]
  },
  {
   "cell_type": "code",
   "execution_count": 15,
   "metadata": {
    "collapsed": true
   },
   "outputs": [],
   "source": [
    "if test in kinetics_files:\n",
    "    kinetics_entry = (s for s in list if sub in s)\n",
    "    smiles_dict[smiles_entry] = [name, kinetics_entry]"
   ]
  },
  {
   "cell_type": "code",
   "execution_count": 16,
   "metadata": {
    "collapsed": false
   },
   "outputs": [
    {
     "data": {
      "text/plain": [
       "{}"
      ]
     },
     "execution_count": 16,
     "metadata": {},
     "output_type": "execute_result"
    }
   ],
   "source": [
    "smiles_dict"
   ]
  },
  {
   "cell_type": "code",
   "execution_count": 17,
   "metadata": {
    "collapsed": false
   },
   "outputs": [
    {
     "ename": "NameError",
     "evalue": "name 'kinetics_entry' is not defined",
     "output_type": "error",
     "traceback": [
      "\u001b[0;31m---------------------------------------------------------------------------\u001b[0m",
      "\u001b[0;31mNameError\u001b[0m                                 Traceback (most recent call last)",
      "\u001b[0;32m<ipython-input-17-7e7e4a5c0328>\u001b[0m in \u001b[0;36m<module>\u001b[0;34m()\u001b[0m\n\u001b[0;32m----> 1\u001b[0;31m \u001b[0mkinetics_entry\u001b[0m\u001b[0;34m\u001b[0m\u001b[0m\n\u001b[0m",
      "\u001b[0;31mNameError\u001b[0m: name 'kinetics_entry' is not defined"
     ]
    }
   ],
   "source": [
    "kinetics_entry"
   ]
  },
  {
   "cell_type": "code",
   "execution_count": null,
   "metadata": {
    "collapsed": true
   },
   "outputs": [],
   "source": []
  }
 ],
 "metadata": {
  "kernelspec": {
   "display_name": "Python [Root]",
   "language": "python",
   "name": "Python [Root]"
  },
  "language_info": {
   "codemirror_mode": {
    "name": "ipython",
    "version": 2
   },
   "file_extension": ".py",
   "mimetype": "text/x-python",
   "name": "python",
   "nbconvert_exporter": "python",
   "pygments_lexer": "ipython2",
   "version": "2.7.11"
  }
 },
 "nbformat": 4,
 "nbformat_minor": 0
}
